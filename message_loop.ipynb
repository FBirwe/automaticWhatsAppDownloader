{
 "cells": [
  {
   "cell_type": "code",
   "execution_count": 1,
   "id": "de1d8e0a",
   "metadata": {},
   "outputs": [],
   "source": [
    "from selenium.webdriver import Firefox\n",
    "from selenium.webdriver.common.by import By\n",
    "from selenium.common.exceptions import NoSuchElementException"
   ]
  },
  {
   "cell_type": "code",
   "execution_count": 2,
   "id": "b36ddecb",
   "metadata": {},
   "outputs": [],
   "source": [
    "import time\n",
    "from pathlib import Path\n",
    "from tqdm import tqdm"
   ]
  },
  {
   "cell_type": "code",
   "execution_count": 3,
   "id": "f73e5014",
   "metadata": {},
   "outputs": [],
   "source": [
    "from manage_images import check_images_for_doubles, delete_doubles, add_id_db, is_id_in_db\n",
    "from process_whatsapp_web import process_message"
   ]
  },
  {
   "cell_type": "code",
   "execution_count": 4,
   "id": "e6a3b8b8",
   "metadata": {},
   "outputs": [],
   "source": [
    "IMG_DIR_PATH = Path('./20_images/')\n",
    "DB_PATH = Path('./21_db/image_list.txt')"
   ]
  },
  {
   "cell_type": "code",
   "execution_count": 5,
   "id": "ff3f5bd6",
   "metadata": {
    "scrolled": true
   },
   "outputs": [
    {
     "name": "stderr",
     "output_type": "stream",
     "text": [
      "/Users/frederic/opt/anaconda3/lib/python3.7/site-packages/ipykernel_launcher.py:1: DeprecationWarning: executable_path has been deprecated, please pass in a Service object\n",
      "  \"\"\"Entry point for launching an IPython kernel.\n"
     ]
    }
   ],
   "source": [
    "driver = Firefox(executable_path='./40_driver/geckodriver')"
   ]
  },
  {
   "cell_type": "code",
   "execution_count": 6,
   "id": "bb242f1a",
   "metadata": {},
   "outputs": [],
   "source": [
    "driver.get('https://web.whatsapp.com/')"
   ]
  },
  {
   "cell_type": "code",
   "execution_count": 7,
   "id": "344d3581",
   "metadata": {},
   "outputs": [
    {
     "ename": "ZeroDivisionError",
     "evalue": "division by zero",
     "output_type": "error",
     "traceback": [
      "\u001b[0;31m---------------------------------------------------------------------------\u001b[0m",
      "\u001b[0;31mZeroDivisionError\u001b[0m                         Traceback (most recent call last)",
      "\u001b[0;32m/var/folders/1l/22wmql894r70q3f_7qkv8nhc0000gn/T/ipykernel_2354/4154377607.py\u001b[0m in \u001b[0;36m<module>\u001b[0;34m\u001b[0m\n\u001b[0;32m----> 1\u001b[0;31m \u001b[0;36m0\u001b[0m \u001b[0;34m/\u001b[0m \u001b[0;36m0\u001b[0m\u001b[0;34m\u001b[0m\u001b[0;34m\u001b[0m\u001b[0m\n\u001b[0m",
      "\u001b[0;31mZeroDivisionError\u001b[0m: division by zero"
     ]
    }
   ],
   "source": [
    "0 / 0"
   ]
  },
  {
   "cell_type": "code",
   "execution_count": 10,
   "id": "7992e61b",
   "metadata": {},
   "outputs": [],
   "source": [
    "def process_message( message, driver, db_path ):\n",
    "    img_id = message.get_attribute(\"data-id\")\n",
    "    \n",
    "    if is_id_in_db( img_id, db_path ) == False:\n",
    "        try:\n",
    "            imgs = message.find_elements(\n",
    "                by=By.CSS_SELECTOR, \n",
    "                value='div[data-testid=\"image-thumb\"]'\n",
    "            )\n",
    "            \n",
    "            #print( len(imgs) )\n",
    "        except:\n",
    "            imgs = []\n",
    "\n",
    "        for img in imgs:\n",
    "            img.click()\n",
    "            time.sleep(0.5)\n",
    "\n",
    "            try:\n",
    "                download_button = driver.find_element(\n",
    "                    by=By.CSS_SELECTOR,\n",
    "                    value='div[title=\"Download\"]'\n",
    "                )\n",
    "                download_button.click()\n",
    "            except:\n",
    "                menu_button = driver.find_element(\n",
    "                    by=By.CSS_SELECTOR,\n",
    "                    value='div[title=\"Menü\"]'\n",
    "                )\n",
    "                menu_button.click()\n",
    "                \n",
    "                download_button = driver.find_element(\n",
    "                    by=By.CSS_SELECTOR,\n",
    "                    value='div[aria-label=\"Download\"]'\n",
    "                )\n",
    "                download_button.click()\n",
    "                \n",
    "\n",
    "            time.sleep(0.5)\n",
    "\n",
    "            close_button = driver.find_element(\n",
    "                by=By.CSS_SELECTOR,\n",
    "                value='div[title=\"Schließen\"]'\n",
    "            )\n",
    "\n",
    "            close_button.click()\n",
    "            time.sleep(1.5)\n",
    "            \n",
    "        return img_id\n",
    "    else:\n",
    "        raise Exception(\"img already in db\")"
   ]
  },
  {
   "cell_type": "code",
   "execution_count": 11,
   "id": "52d87cfe",
   "metadata": {},
   "outputs": [
    {
     "name": "stderr",
     "output_type": "stream",
     "text": [
      "100%|████████████████████████████████████████████| 1/1 [00:00<00:00, 132.17it/s]\n",
      "100%|█████████████████████████████████████████████| 8/8 [00:13<00:00,  1.74s/it]\n",
      "100%|████████████████████████████████████████████| 1/1 [00:00<00:00, 144.45it/s]\n",
      "100%|████████████████████████████████████████████| 8/8 [00:00<00:00, 147.44it/s]\n",
      "100%|████████████████████████████████████████████| 1/1 [00:00<00:00, 126.70it/s]\n",
      "100%|████████████████████████████████████████████| 8/8 [00:00<00:00, 152.75it/s]\n",
      "100%|████████████████████████████████████████████| 1/1 [00:00<00:00, 118.55it/s]\n",
      "100%|████████████████████████████████████████████| 8/8 [00:00<00:00, 162.04it/s]\n",
      "100%|████████████████████████████████████████████| 1/1 [00:00<00:00, 128.20it/s]\n",
      "100%|████████████████████████████████████████████| 8/8 [00:00<00:00, 153.78it/s]\n"
     ]
    }
   ],
   "source": [
    "for i in range(5):\n",
    "    # Chats lesen\n",
    "    chats = driver.find_elements(by=By.XPATH, value='//div[@data-testid=\"chat-list\"]/div/div')\n",
    "\n",
    "    # Bilder laden\n",
    "    for chat in chats:\n",
    "        chat.click()\n",
    "\n",
    "        messages = driver.find_elements(by=By.CSS_SELECTOR, value=\"div.message-in\")\n",
    "\n",
    "        for message in tqdm(messages):\n",
    "            try:\n",
    "                img_id = process_message( message, driver, DB_PATH )\n",
    "                add_id_db( img_id, DB_PATH )\n",
    "            except Exception as e:\n",
    "                pass\n",
    "\n",
    "    hash_table = check_images_for_doubles( IMG_DIR_PATH )\n",
    "    delete_doubles(hash_table)\n",
    "    \n",
    "    time.sleep(30)"
   ]
  },
  {
   "cell_type": "code",
   "execution_count": null,
   "id": "da306d01",
   "metadata": {},
   "outputs": [],
   "source": [
    "driver.close()"
   ]
  }
 ],
 "metadata": {
  "kernelspec": {
   "display_name": "Python 3 (ipykernel)",
   "language": "python",
   "name": "python3"
  },
  "language_info": {
   "codemirror_mode": {
    "name": "ipython",
    "version": 3
   },
   "file_extension": ".py",
   "mimetype": "text/x-python",
   "name": "python",
   "nbconvert_exporter": "python",
   "pygments_lexer": "ipython3",
   "version": "3.7.13"
  }
 },
 "nbformat": 4,
 "nbformat_minor": 5
}
